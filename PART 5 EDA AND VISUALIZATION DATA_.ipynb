{
 "cells": [
  {
   "cell_type": "markdown",
   "metadata": {},
   "source": [
    "# EXPLORATORY DATA ANALYSIS\n",
    "# Part 1 : Questions\n",
    "1. 5 Highest Rating Movie All The Time\n",
    "2. Highest Rating Movie All The Time In each genre\n",
    "3. 5 movie with Highest Profit all The Time\n",
    "4. Most Successful Production Companies\n",
    "5. Most Successful Franchise \n",
    "6. Most Successful Director\n",
    "7. Most Successful Actors\n",
    "8. Movie Highest Rating In each Year "
   ]
  },
  {
   "cell_type": "markdown",
   "metadata": {},
   "source": [
    "# EXPLORATORY DATA ANALYSIS\n",
    "# Part 2 : Columns Info"
   ]
  },
  {
   "cell_type": "markdown",
   "metadata": {},
   "source": [
    "* **id:** The ID of the movie (clear/unique identifier).\n",
    "* **title:** The Official Title of the movie.\n",
    "* **tagline:** The tagline of the movie.\n",
    "* **release_date:** Theatrical Release Date of the movie.\n",
    "* **genres:** Genres associated with the movie.\n",
    "* **belongs_to_collection:** Gives information on the movie series/franchise the particular film belongs to.\n",
    "* **original_language:** The language in which the movie was originally shot in.\n",
    "* **budget_musd:** The budget of the movie in million dollars.\n",
    "* **revenue_musd:** The total revenue of the movie in million dollars.\n",
    "* **production_companies:** Production companies involved with the making of the movie.\n",
    "* **production_countries:** Countries where the movie was shot/produced in.\n",
    "* **vote_count:** The number of votes by users, as counted by TMDB.\n",
    "* **vote_average:** The average rating of the movie.\n",
    "* **popularity:** The Popularity Score assigned by TMDB.\n",
    "* **runtime:** The runtime of the movie in minutes.\n",
    "* **overview:** A brief blurb of the movie.\n",
    "* **spoken_languages:** Spoken languages in the film.\n",
    "* **poster_path:** The URL of the poster image.\n",
    "* **cast:** (Main) Actors appearing in the movie.\n",
    "* **crew_size:** Size of the film crew (incl. director, excl. actors).\n",
    "* **director:** Director of the movie."
   ]
  },
  {
   "cell_type": "code",
   "execution_count": null,
   "metadata": {},
   "outputs": [],
   "source": [
    "df_eda.info()"
   ]
  },
  {
   "cell_type": "code",
   "execution_count": null,
   "metadata": {},
   "outputs": [],
   "source": [
    "df_eda.head()"
   ]
  },
  {
   "cell_type": "markdown",
   "metadata": {},
   "source": [
    "# EXPLORATORY DATA ANALYSIS\n",
    "# Part 3 : 5 Movies With Highest Rating All The Time"
   ]
  },
  {
   "cell_type": "code",
   "execution_count": null,
   "metadata": {},
   "outputs": [],
   "source": [
    "df_eda.loc[df_eda['vote_count'] >= 50].sort_values(by = \"vote_average\", ascending = False).head(5)"
   ]
  },
  {
   "cell_type": "code",
   "execution_count": null,
   "metadata": {},
   "outputs": [],
   "source": [
    "best_by_vote_vote_average = df_eda[['title','poster_path','vote_average']].copy()\n",
    "best_by_vote_vote_average = best_by_vote_vote_average.loc[df_eda['vote_count'] >= 50].sort_values(by='vote_average', ascending = False)\n",
    "subset = best_by_vote_vote_average.iloc[0:5,:]\n",
    "HTML(subset.to_html(escape=False))"
   ]
  },
  {
   "cell_type": "markdown",
   "metadata": {},
   "source": [
    "# EXPLORATORY DATA ANALYSIS\n",
    "# Part 4 : Highest Rating Movie All The Time In each genre"
   ]
  },
  {
   "cell_type": "code",
   "execution_count": null,
   "metadata": {},
   "outputs": [],
   "source": [
    "high_by_rat = df_eda.loc[df_eda['vote_count'] >= 1000].sort_values(by = \"vote_average\", ascending = False)\n",
    "high_by_rat"
   ]
  },
  {
   "cell_type": "code",
   "execution_count": null,
   "metadata": {},
   "outputs": [],
   "source": [
    "df_eda.genres.value_counts()"
   ]
  },
  {
   "cell_type": "code",
   "execution_count": null,
   "metadata": {},
   "outputs": [],
   "source": [
    "mask_action = high_by_rat['genres'].str.contains('Action', na = False)\n",
    "mask_drama = high_by_rat['genres'].str.contains('Drama',na = False)\n",
    "mask_comedy = high_by_rat['genres'].str.contains('Comedy',na = False)\n",
    "mask_horror = high_by_rat['genres'].str.contains('Horror',na = False)\n",
    "mask_Sci = high_by_rat['genres'].str.contains('Science Fiction',na = False)     \n",
    "mask_adventure = high_by_rat['genres'].str.contains('Adventure',na = False)\n",
    "mask_animation = high_by_rat['genres'].str.contains('Animation',na = False)\n",
    "mask_thriller = high_by_rat['genres'].str.contains('Thriller',na = False)"
   ]
  },
  {
   "cell_type": "markdown",
   "metadata": {},
   "source": [
    "##### Action Movies"
   ]
  },
  {
   "cell_type": "code",
   "execution_count": null,
   "metadata": {},
   "outputs": [],
   "source": [
    "action_movies = high_by_rat.loc[mask_action, ['title','poster_path','vote_average','genres','release_date','vote_count']].sort_values(by = 'vote_average', ascending = False)\n",
    "action_movies"
   ]
  },
  {
   "cell_type": "code",
   "execution_count": null,
   "metadata": {},
   "outputs": [],
   "source": [
    "action_movies = action_movies.loc[high_by_rat['vote_count'] >= 50].sort_values(by='vote_average', ascending = False)\n",
    "subset = action_movies.iloc[0:5,:]\n",
    "HTML(subset.to_html(escape=False))"
   ]
  },
  {
   "cell_type": "markdown",
   "metadata": {},
   "source": [
    "##### Drama Movies"
   ]
  },
  {
   "cell_type": "code",
   "execution_count": null,
   "metadata": {},
   "outputs": [],
   "source": [
    "drama_movies = high_by_rat.loc[mask_drama, ['title','poster_path','vote_average','genres','release_date','vote_count']].sort_values(by = 'vote_average', ascending = False)\n",
    "drama_movies"
   ]
  },
  {
   "cell_type": "code",
   "execution_count": null,
   "metadata": {},
   "outputs": [],
   "source": [
    "drama_movies = drama_movies.loc[high_by_rat['vote_count'] >= 50].sort_values(by='vote_average', ascending = False)\n",
    "subset = drama_movies.iloc[0:5,:]\n",
    "HTML(subset.to_html(escape=False))"
   ]
  },
  {
   "cell_type": "markdown",
   "metadata": {},
   "source": [
    "##### Comedy_movies"
   ]
  },
  {
   "cell_type": "code",
   "execution_count": null,
   "metadata": {},
   "outputs": [],
   "source": [
    "comedy_movies = high_by_rat.loc[mask_comedy, ['title','poster_path','vote_average','genres','release_date','vote_count']].sort_values(by = 'vote_average', ascending = False).head(5)\n",
    "comedy_movies"
   ]
  },
  {
   "cell_type": "code",
   "execution_count": null,
   "metadata": {},
   "outputs": [],
   "source": [
    "comedy_movies = comedy_movies.loc[high_by_rat['vote_count'] >= 50].sort_values(by='vote_average', ascending = False)\n",
    "subset = comedy_movies.iloc[0:5,:]\n",
    "HTML(subset.to_html(escape=False))"
   ]
  },
  {
   "cell_type": "markdown",
   "metadata": {},
   "source": [
    "##### Horror_movies"
   ]
  },
  {
   "cell_type": "code",
   "execution_count": null,
   "metadata": {},
   "outputs": [],
   "source": [
    "horror_movies = high_by_rat.loc[mask_horror, ['title','poster_path','vote_average','genres','release_date','vote_count']].sort_values(by = 'vote_average', ascending = False).head(5)\n",
    "horror_movies"
   ]
  },
  {
   "cell_type": "code",
   "execution_count": null,
   "metadata": {},
   "outputs": [],
   "source": [
    "horror_movies = horror_movies.loc[high_by_rat['vote_count'] >= 50].sort_values(by='vote_average', ascending = False)\n",
    "subset = horror_movies.iloc[0:5,:]\n",
    "HTML(subset.to_html(escape=False))"
   ]
  },
  {
   "cell_type": "markdown",
   "metadata": {},
   "source": [
    "##### Science Fiction Movies"
   ]
  },
  {
   "cell_type": "code",
   "execution_count": null,
   "metadata": {},
   "outputs": [],
   "source": [
    "sci_movies = high_by_rat.loc[mask_Sci, ['title','poster_path','vote_average','genres','release_date','vote_count']].sort_values(by = 'vote_average', ascending = False)\n",
    "sci_movies"
   ]
  },
  {
   "cell_type": "code",
   "execution_count": null,
   "metadata": {},
   "outputs": [],
   "source": [
    "sci_movies = sci_movies.loc[high_by_rat['vote_count'] >= 50].sort_values(by='vote_average', ascending = False)\n",
    "subset = sci_movies.iloc[0:5,:]\n",
    "HTML(subset.to_html(escape=False))"
   ]
  },
  {
   "cell_type": "markdown",
   "metadata": {},
   "source": [
    "##### Adventure Movies"
   ]
  },
  {
   "cell_type": "code",
   "execution_count": null,
   "metadata": {},
   "outputs": [],
   "source": [
    "adventure_movies = high_by_rat.loc[mask_adventure, ['title','poster_path','vote_average','genres','release_date','vote_count']].sort_values(by = 'vote_average', ascending = False).head(5)\n",
    "adventure_movies"
   ]
  },
  {
   "cell_type": "code",
   "execution_count": null,
   "metadata": {},
   "outputs": [],
   "source": [
    "adventure_movies = adventure_movies.loc[high_by_rat['vote_count'] >= 50].sort_values(by='vote_average', ascending = False)\n",
    "subset = adventure_movies.iloc[0:5,:]\n",
    "HTML(subset.to_html(escape=False))"
   ]
  },
  {
   "cell_type": "markdown",
   "metadata": {},
   "source": [
    "##### ANimation Movies"
   ]
  },
  {
   "cell_type": "code",
   "execution_count": null,
   "metadata": {},
   "outputs": [],
   "source": [
    "animation_movies = high_by_rat.loc[mask_animation, ['title','poster_path','vote_average','genres','release_date','vote_count']].sort_values(by = 'vote_average', ascending = False).head(5)\n",
    "animation_movies"
   ]
  },
  {
   "cell_type": "code",
   "execution_count": null,
   "metadata": {},
   "outputs": [],
   "source": [
    "animation_movies = animation_movies.loc[high_by_rat['vote_count'] >= 50].sort_values(by='vote_average', ascending = False)\n",
    "subset = animation_movies.iloc[0:5,:]\n",
    "HTML(subset.to_html(escape=False))"
   ]
  },
  {
   "cell_type": "markdown",
   "metadata": {},
   "source": [
    "##### Thriller Movies"
   ]
  },
  {
   "cell_type": "code",
   "execution_count": null,
   "metadata": {},
   "outputs": [],
   "source": [
    "thriller_movies = high_by_rat.loc[mask_thriller, ['title','poster_path','vote_average','genres','release_date','vote_count']].sort_values(by = 'vote_average', ascending = False).head(5)\n",
    "thriller_movies"
   ]
  },
  {
   "cell_type": "code",
   "execution_count": null,
   "metadata": {},
   "outputs": [],
   "source": [
    "thriller_movies = thriller_movies.loc[high_by_rat['vote_count'] >= 50].sort_values(by='vote_average', ascending = False)\n",
    "subset = thriller_movies.iloc[0:5,:]\n",
    "HTML(subset.to_html(escape=False))"
   ]
  },
  {
   "cell_type": "markdown",
   "metadata": {},
   "source": [
    "# EXPLORATORY DATA ANALYSIS\n",
    "# Part 5 : 5 movie with Highest Profit all The Time\n"
   ]
  },
  {
   "cell_type": "code",
   "execution_count": null,
   "metadata": {},
   "outputs": [],
   "source": [
    "df_eda['profit_musd']=df_eda['revenue_musd']-df_eda['budget_musd']"
   ]
  },
  {
   "cell_type": "code",
   "execution_count": null,
   "metadata": {},
   "outputs": [],
   "source": [
    "df_eda.sort_values(by = 'profit_musd', ascending = False).head(5)"
   ]
  },
  {
   "cell_type": "code",
   "execution_count": null,
   "metadata": {},
   "outputs": [],
   "source": [
    "best_by_profit = df_eda[['title','poster_path','profit_musd']].copy()\n",
    "best_by_profit = best_by_profit.sort_values(by = 'profit_musd',ascending=False)\n",
    "subset = best_by_profit.iloc[0:5,:]\n",
    "HTML(subset.to_html(escape=False))\n"
   ]
  },
  {
   "cell_type": "markdown",
   "metadata": {},
   "source": [
    "# EXPLORATORY DATA ANALYSIS\n",
    "# Part 6 : Production Companies With total number of Movies\n"
   ]
  },
  {
   "cell_type": "code",
   "execution_count": null,
   "metadata": {},
   "outputs": [],
   "source": [
    "df_eda['production_companies'].value_counts()"
   ]
  },
  {
   "cell_type": "code",
   "execution_count": null,
   "metadata": {},
   "outputs": [],
   "source": [
    "df_eda[df_eda['production_companies'].str.contains('MGM', na = False)].sort_values('profit_musd', ascending = False).head(5)"
   ]
  },
  {
   "cell_type": "markdown",
   "metadata": {},
   "source": [
    "# EXPLORATORY DATA ANALYSIS\n",
    "# Part 7 : Most Successful Franchise\n"
   ]
  },
  {
   "cell_type": "code",
   "execution_count": null,
   "metadata": {},
   "outputs": [],
   "source": [
    "franchises = df_eda.groupby('belongs_to_collection').agg({'title':'count',\n",
    "                                  'budget_musd':['sum','mean'],\n",
    "                                  'revenue_musd':['sum','mean'],\n",
    "                                  \"vote_count\":\"mean\",\n",
    "                                  'vote_average':'mean',\n",
    "                                  'profit_musd':'mean'})\n",
    "franchises"
   ]
  },
  {
   "cell_type": "markdown",
   "metadata": {},
   "source": [
    "##### Number Of Series"
   ]
  },
  {
   "cell_type": "code",
   "execution_count": null,
   "metadata": {},
   "outputs": [],
   "source": [
    "franchises.nlargest(10, ('title','count'))"
   ]
  },
  {
   "cell_type": "markdown",
   "metadata": {},
   "source": [
    "##### MOst Profitable"
   ]
  },
  {
   "cell_type": "code",
   "execution_count": null,
   "metadata": {},
   "outputs": [],
   "source": [
    "franchises[franchises[(\"title\", \"count\")] >=2].nlargest(10, ('profit_musd','mean'))"
   ]
  },
  {
   "cell_type": "markdown",
   "metadata": {},
   "source": [
    "##### Highest Ratings"
   ]
  },
  {
   "cell_type": "code",
   "execution_count": null,
   "metadata": {},
   "outputs": [],
   "source": [
    "franchises[franchises[(\"vote_count\", \"mean\")] >=1000].nlargest(20, (\"vote_average\", \"mean\"))"
   ]
  },
  {
   "cell_type": "markdown",
   "metadata": {},
   "source": [
    "# EXPLORATORY DATA ANALYSIS\n",
    "# Part 8 : Most Successful Director"
   ]
  },
  {
   "cell_type": "code",
   "execution_count": null,
   "metadata": {},
   "outputs": [],
   "source": [
    "director = df_eda.groupby('director').agg({'title':'count',\n",
    "                                  'budget_musd':['sum','mean'],\n",
    "                                  'revenue_musd':['sum','mean'],\n",
    "                                  \"vote_count\":\"mean\",\n",
    "                                  'vote_average':'mean',})\n",
    "director"
   ]
  },
  {
   "cell_type": "markdown",
   "metadata": {},
   "source": [
    "##### by Total Number of Movies"
   ]
  },
  {
   "cell_type": "code",
   "execution_count": null,
   "metadata": {},
   "outputs": [],
   "source": [
    "director.nlargest(10, ('title','count')).plot(kind = 'bar', y = ('title','count'), figsize = (12,8))\n",
    "plt.show()"
   ]
  },
  {
   "cell_type": "markdown",
   "metadata": {},
   "source": [
    "##### Total Revenue"
   ]
  },
  {
   "cell_type": "code",
   "execution_count": null,
   "metadata": {},
   "outputs": [],
   "source": [
    "director.nlargest(10, ('revenue_musd','sum')).plot(kind = 'bar', y = ('revenue_musd','sum'), figsize = (12,8))\n",
    "plt.show()"
   ]
  },
  {
   "cell_type": "markdown",
   "metadata": {},
   "source": [
    "# EXPLORATORY DATA ANALYSIS\n",
    "# Part 9 : Release Date by Year"
   ]
  },
  {
   "cell_type": "code",
   "execution_count": null,
   "metadata": {},
   "outputs": [],
   "source": [
    "df_eda['release_date'] = pd.to_datetime(df_eda['release_date'])"
   ]
  },
  {
   "cell_type": "code",
   "execution_count": null,
   "metadata": {},
   "outputs": [],
   "source": [
    "movie_release_year = df_eda.groupby(df_eda['release_date'].dt.year)['title'].count()"
   ]
  },
  {
   "cell_type": "code",
   "execution_count": null,
   "metadata": {},
   "outputs": [],
   "source": [
    "type(movie_release_year)"
   ]
  },
  {
   "cell_type": "code",
   "execution_count": null,
   "metadata": {},
   "outputs": [],
   "source": [
    "movie_release_year = pd.DataFrame(movie_release_year)\n",
    "movie_release_year"
   ]
  },
  {
   "cell_type": "code",
   "execution_count": null,
   "metadata": {},
   "outputs": [],
   "source": [
    "plt.figure(figsize=(16,8))\n",
    "plt.bar(x = movie_release_year.index, height = movie_release_year.title)\n",
    "plt.show()"
   ]
  },
  {
   "cell_type": "code",
   "execution_count": null,
   "metadata": {},
   "outputs": [],
   "source": []
  }
 ],
 "metadata": {
  "kernelspec": {
   "display_name": "Python 3",
   "language": "python",
   "name": "python3"
  },
  "language_info": {
   "codemirror_mode": {
    "name": "ipython",
    "version": 3
   },
   "file_extension": ".py",
   "mimetype": "text/x-python",
   "name": "python",
   "nbconvert_exporter": "python",
   "pygments_lexer": "ipython3",
   "version": "3.7.6"
  }
 },
 "nbformat": 4,
 "nbformat_minor": 4
}
